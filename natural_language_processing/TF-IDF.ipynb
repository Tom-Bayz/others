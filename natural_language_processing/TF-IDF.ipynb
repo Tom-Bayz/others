{
 "cells": [
  {
   "cell_type": "markdown",
   "metadata": {},
   "source": [
    "### [自然言語処理]\n",
    "機械学習の一分野に, 自然言語処理(NLP;natural language processing)がある. NLPでは人間が日常で使用する言語を入力として, 様々なタスクを処理することを目的としている. 例えば, <br>\n",
    "- 文章を入力し, その文章のジャンルが何なのかを判定する\n",
    "- 二つの文章を入力し, その文章の類似度を図る\n",
    "- 問題文を入力し, その回答を出力する\n",
    "- 入力した文章を別の言語に翻訳し, 出力する<br>\n",
    "\n",
    "などである. 人間は文字や音声によって自然言語を入力され, これらのタスクを瞬時に処理することができる. 機械学習におけるNLPのモデルでは文字(テキストデータ)を入力とすることを想定することが多い. 音声によって自然言語が入力されることもあるが, その場合も音声から事前にテキストデータに変換して機械学習モデルに入力されることが多い. "
   ]
  },
  {
   "cell_type": "markdown",
   "metadata": {},
   "source": [
    "### [自然言語(テキストデータ)のベクトル化]\n",
    "機械学習モデルは, 数理モデル(数学の言葉で定義される)である. そのため入力, 出力は数字として計測可能でなくてはならない.<br>\n",
    "\n",
    "そのため自然言語処理では, 一度テキストデータを数字に変換しなければならない. このテキストデータから数字への変換は「単語の埋め込み」「文章の埋め込み」「ベクトル化」といわれる. テキストのベクトル化には, いままでに様々な手法が考えられてきた. このメモは文章をベクトル化する手法の一つ, TF-IDFの概要を整理するために書かれたものである."
   ]
  },
  {
   "cell_type": "markdown",
   "metadata": {},
   "source": [
    "### [TF-IDF]\n",
    "文章をベクトル化した時に満たしていて欲しい条件を考えてみた. \n",
    "- (1)完全に同一の2つの文章をベクトル化した場合は, 同じベクトルに変換される.\n",
    "- (2)異なる単語を含む文章であっても, 同一の意味を持つ文章は同じベクトルに変換される.<br>\n",
    "\n",
    "TF-IDFは文章の中に出現する単語の頻度に着目して, 文章の意味をベクトル化するヒューリスティクスである. TF-IDFは(1)を満たすが, (2)は満たさない.\n",
    "\n",
    "#### > TF(Term Frequency):\n",
    "単語の出現頻度. 各文章において単語がどのくらい出現したのかを意味する. すなわち文章$d$の中に出現する$t$のTF ${\\rm tf}(t,d)$は<br>\n",
    "<div style=\"text-align: center;\">\n",
    "${\\rm tf}(t,d):=\\frac{n_{t,d}}{\\sum_{s\\in d}n_{s,d}}$\n",
    "</div>"
   ]
  },
  {
   "cell_type": "markdown",
   "metadata": {},
   "source": [
    "### 情報理論との関係性(link with information theory)"
   ]
  },
  {
   "cell_type": "code",
   "execution_count": null,
   "metadata": {},
   "outputs": [],
   "source": []
  }
 ],
 "metadata": {
  "kernelspec": {
   "display_name": "Python 3",
   "language": "python",
   "name": "python3"
  },
  "language_info": {
   "codemirror_mode": {
    "name": "ipython",
    "version": 3
   },
   "file_extension": ".py",
   "mimetype": "text/x-python",
   "name": "python",
   "nbconvert_exporter": "python",
   "pygments_lexer": "ipython3",
   "version": "3.7.4"
  }
 },
 "nbformat": 4,
 "nbformat_minor": 4
}
